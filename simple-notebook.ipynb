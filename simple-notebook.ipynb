{
    "cells": [
        {
            "cell_type": "code",
            "execution_count": null,
            "source": [
                "import numpy as np\n",
                "import pandas as pd\n",
                "import matplotlib.pyplot as plt"
            ],
            "outputs": [],
            "metadata": {}
        },
        {
            "cell_type": "code",
            "execution_count": 10,
            "source": [
                "# Progress bar\n",
                "from tqdm import trange\n",
                "import time\n",
                "for i in trange(100):\n",
                "    time.sleep(0.01)"
            ],
            "outputs": [
                {
                    "output_type": "stream",
                    "name": "stderr",
                    "text": [
                        "100%|██████████| 100/100 [00:01<00:00, 92.52it/s]\n"
                    ]
                }
            ],
            "metadata": {}
        },
        {
            "cell_type": "code",
            "execution_count": 12,
            "source": [
                "# Some extra variable types for the variable explorer\n",
                "myNparray = np.array([['Bob', 1, 2, 3], ['Alice', 4, 5, 6], ['Gina', 7, 8, 9]])\n",
                "myDataFrame = pd.DataFrame(myNparray, columns=['name', 'b', 'c', 'd'])\n",
                "mySeries = myDataFrame['name']\n",
                "myList = [x ** 2 for x in range(0, 100000)]\n",
                "myString = 'testing testing testing'"
            ],
            "outputs": [],
            "metadata": {}
        }
    ],
    "metadata": {
        "orig_nbformat": 4,
        "language_info": {
            "name": "python"
        }
    },
    "nbformat": 4,
    "nbformat_minor": 2
}